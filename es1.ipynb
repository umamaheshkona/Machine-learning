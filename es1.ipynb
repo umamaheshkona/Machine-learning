{
  "nbformat": 4,
  "nbformat_minor": 0,
  "metadata": {
    "colab": {
      "provenance": [],
      "authorship_tag": "ABX9TyMmpH7g1aPg6nj0oIx8NLN7",
      "include_colab_link": true
    },
    "kernelspec": {
      "name": "python3",
      "display_name": "Python 3"
    },
    "language_info": {
      "name": "python"
    }
  },
  "cells": [
    {
      "cell_type": "markdown",
      "metadata": {
        "id": "view-in-github",
        "colab_type": "text"
      },
      "source": [
        "<a href=\"https://colab.research.google.com/github/umamaheshkona/Machine-learning/blob/main/es1.ipynb\" target=\"_parent\"><img src=\"https://colab.research.google.com/assets/colab-badge.svg\" alt=\"Open In Colab\"/></a>"
      ]
    },
    {
      "cell_type": "code",
      "execution_count": 23,
      "metadata": {
        "colab": {
          "base_uri": "https://localhost:8080/"
        },
        "id": "VgBXZpkfDdIc",
        "outputId": "38ad551f-143e-405c-806e-b56e416069e8"
      },
      "outputs": [
        {
          "output_type": "stream",
          "name": "stdout",
          "text": [
            "['uma', 'mahesh']\n"
          ]
        }
      ],
      "source": [
        "#creating an array\n",
        "cars = [\"uma\",\"mahesh\"]\n",
        "print(cars)"
      ]
    },
    {
      "cell_type": "code",
      "source": [
        "#access the elements of an array\n",
        "x = cars[0]\n",
        "y = cars[1]\n",
        "print(x)\n",
        "print(y)"
      ],
      "metadata": {
        "colab": {
          "base_uri": "https://localhost:8080/"
        },
        "id": "H4cP-AmpDxlG",
        "outputId": "c608316e-b9c8-427b-ecc2-a87d63f6f62e"
      },
      "execution_count": 24,
      "outputs": [
        {
          "output_type": "stream",
          "name": "stdout",
          "text": [
            "uma\n",
            "mahesh\n"
          ]
        }
      ]
    },
    {
      "cell_type": "code",
      "source": [
        "#modify the values of an array\n",
        "cars[0] = \"deepu\"\n",
        "print(cars)"
      ],
      "metadata": {
        "colab": {
          "base_uri": "https://localhost:8080/"
        },
        "id": "ZhKi7nN5EFSB",
        "outputId": "331fd102-b39f-4db5-a071-0b233348fb06"
      },
      "execution_count": 25,
      "outputs": [
        {
          "output_type": "stream",
          "name": "stdout",
          "text": [
            "['deepu', 'mahesh']\n"
          ]
        }
      ]
    },
    {
      "cell_type": "code",
      "source": [
        "#length of an array\n",
        "a = len(cars)\n",
        "print(a)"
      ],
      "metadata": {
        "colab": {
          "base_uri": "https://localhost:8080/"
        },
        "id": "lXb6ZXsMEkyH",
        "outputId": "5c063fd3-c475-4b6c-b610-55be1f9a7b9a"
      },
      "execution_count": 26,
      "outputs": [
        {
          "output_type": "stream",
          "name": "stdout",
          "text": [
            "2\n"
          ]
        }
      ]
    },
    {
      "cell_type": "code",
      "source": [
        "#looping array elements\n",
        "for z in cars:\n",
        "  print(z)"
      ],
      "metadata": {
        "colab": {
          "base_uri": "https://localhost:8080/"
        },
        "id": "auC--Va5E388",
        "outputId": "bc0fc67d-3d71-4dea-c0fc-f108ce9aed60"
      },
      "execution_count": 27,
      "outputs": [
        {
          "output_type": "stream",
          "name": "stdout",
          "text": [
            "deepu\n",
            "mahesh\n"
          ]
        }
      ]
    },
    {
      "cell_type": "code",
      "source": [
        "#adding element to array\n",
        "cars.append(\"uma\")\n",
        "print(cars)"
      ],
      "metadata": {
        "colab": {
          "base_uri": "https://localhost:8080/"
        },
        "id": "PDEIk1kKFPOj",
        "outputId": "2bdfc1a2-f847-49e7-88e0-a85650e16c4a"
      },
      "execution_count": 28,
      "outputs": [
        {
          "output_type": "stream",
          "name": "stdout",
          "text": [
            "['deepu', 'mahesh', 'uma']\n"
          ]
        }
      ]
    },
    {
      "cell_type": "code",
      "source": [
        "#removing array elements based on index\n",
        "cars.pop(1)\n",
        "print(cars)"
      ],
      "metadata": {
        "colab": {
          "base_uri": "https://localhost:8080/"
        },
        "id": "oN2LCDmhFkEp",
        "outputId": "62d44e9a-62ed-479b-d2ff-2f083135befb"
      },
      "execution_count": 29,
      "outputs": [
        {
          "output_type": "stream",
          "name": "stdout",
          "text": [
            "['deepu', 'uma']\n"
          ]
        }
      ]
    },
    {
      "cell_type": "code",
      "source": [
        "#removing array elements based on value\n",
        "cars.remove(\"uma\")\n",
        "print(cars)"
      ],
      "metadata": {
        "colab": {
          "base_uri": "https://localhost:8080/"
        },
        "id": "0n8zNtoKF2ae",
        "outputId": "2d180601-cbae-4c8a-bca5-379c94e558cf"
      },
      "execution_count": 30,
      "outputs": [
        {
          "output_type": "stream",
          "name": "stdout",
          "text": [
            "['deepu']\n"
          ]
        }
      ]
    },
    {
      "cell_type": "code",
      "source": [
        "#sum of elements in an array\n",
        "sumu = 0\n",
        "arr = [1,2,5,6,7]\n",
        "for i in  arr:\n",
        "  sumu = sumu + i\n",
        "print(sumu)"
      ],
      "metadata": {
        "colab": {
          "base_uri": "https://localhost:8080/"
        },
        "id": "xqgaOD8RGDTa",
        "outputId": "de4a5d0e-9370-4d2c-db40-e6969fcc4724"
      },
      "execution_count": 34,
      "outputs": [
        {
          "output_type": "stream",
          "name": "stdout",
          "text": [
            "21\n"
          ]
        }
      ]
    },
    {
      "cell_type": "code",
      "source": [
        "#sum of elements in an array using recursion\n",
        "def sum(arr,n):\n",
        "  if(n==0):\n",
        "    return 0\n",
        "  return arr[n-1]+sum(arr,n-1)\n",
        "print(sum(arr,5))"
      ],
      "metadata": {
        "colab": {
          "base_uri": "https://localhost:8080/"
        },
        "id": "7iHgZDniIKIk",
        "outputId": "1ee501a4-629a-44bf-e5a1-eb4ddbb4ae54"
      },
      "execution_count": 46,
      "outputs": [
        {
          "output_type": "stream",
          "name": "stdout",
          "text": [
            "21\n"
          ]
        }
      ]
    },
    {
      "cell_type": "code",
      "source": [
        "#reverse of an array\n",
        "start = 0\n",
        "end = len(arr)-1\n",
        "while(start<end):\n",
        "  arr[start],arr[end] = arr[end],arr[start]\n",
        "  start = start + 1\n",
        "  end = end - 1\n",
        "print(arr)"
      ],
      "metadata": {
        "colab": {
          "base_uri": "https://localhost:8080/"
        },
        "id": "iJxqyPKKJ5On",
        "outputId": "f7c0cebc-dad3-4c64-a2e7-a30e6ce4f7bd"
      },
      "execution_count": 49,
      "outputs": [
        {
          "output_type": "stream",
          "name": "stdout",
          "text": [
            "[7, 6, 5, 2, 1]\n"
          ]
        }
      ]
    },
    {
      "cell_type": "code",
      "source": [
        "#reverse of an array using recursion\n",
        "def reverse(arr,start,end):\n",
        "  if(start >= end ):\n",
        "    return\n",
        "  arr[start],arr[end] = arr[end],arr[start]\n",
        "  reverse(arr,start+1,end-1)\n",
        "  return arr\n",
        "print(reverse(arr,0,4))"
      ],
      "metadata": {
        "colab": {
          "base_uri": "https://localhost:8080/"
        },
        "id": "d0QRr9VbLtSH",
        "outputId": "8056dde5-c04b-42cf-df0c-01a8c299811b"
      },
      "execution_count": 61,
      "outputs": [
        {
          "output_type": "stream",
          "name": "stdout",
          "text": [
            "[7, 6, 5, 2, 1]\n"
          ]
        }
      ]
    },
    {
      "cell_type": "code",
      "source": [],
      "metadata": {
        "id": "pxHbOtOXNJvp"
      },
      "execution_count": 53,
      "outputs": []
    }
  ]
}